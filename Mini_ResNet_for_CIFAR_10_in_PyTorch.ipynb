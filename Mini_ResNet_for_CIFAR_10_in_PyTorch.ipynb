{
  "nbformat": 4,
  "nbformat_minor": 0,
  "metadata": {
    "colab": {
      "provenance": [],
      "gpuType": "T4"
    },
    "kernelspec": {
      "name": "python3",
      "display_name": "Python 3"
    },
    "language_info": {
      "name": "python"
    },
    "accelerator": "GPU"
  },
  "cells": [
    {
      "cell_type": "code",
      "execution_count": 8,
      "metadata": {
        "id": "s5ciSLFFldwR"
      },
      "outputs": [],
      "source": [
        "import torch\n",
        "import torch.nn as nn\n",
        "import torch.optim as optim\n",
        "import torchvision\n",
        "import torchvision.transforms as transforms\n",
        "from torch.utils.data import DataLoader, random_split\n",
        "import numpy as np\n",
        "from tqdm import tqdm"
      ]
    },
    {
      "cell_type": "code",
      "source": [
        "# --- 1. Configuration and Hyperparameters ---\n",
        "# This section contains all the tunable parameters for the model and training process.\n",
        "class Config:\n",
        "    # Data\n",
        "    DATASET_PATH = \"./data\"\n",
        "\n",
        "    # Training\n",
        "    BATCH_SIZE = 64\n",
        "    EPOCHS = 20  # Max number of epochs to train for\n",
        "    LEARNING_RATE = 0.001\n",
        "\n",
        "    # Model Architecture\n",
        "    # The number of output channels for the residual blocks\n",
        "    RES_BLOCK_CHANNELS = [32, 64]\n",
        "    NUM_CLASSES = 10 # CIFAR-10 has 10 classes\n",
        "\n",
        "    # Scheduler & Early Stopping\n",
        "    SCHEDULER_PATIENCE = 5 # How many epochs to wait for improvement before reducing LR\n",
        "    SCHEDULER_FACTOR = 0.1   # Factor by which to reduce learning rate\n",
        "    EARLY_STOPPING_PATIENCE = 7 # How many epochs to wait for improvement before stopping\n",
        "\n",
        "    # System\n",
        "    DEVICE = \"cuda\" if torch.cuda.is_available() else \"cpu\"\n",
        "\n",
        "config = Config()\n",
        "print(f\"Using device: {config.DEVICE}\")"
      ],
      "metadata": {
        "colab": {
          "base_uri": "https://localhost:8080/"
        },
        "id": "9ZSFkqqSl6y2",
        "outputId": "e363d00a-d9ea-40e6-f08c-0cda457ec276"
      },
      "execution_count": 9,
      "outputs": [
        {
          "output_type": "stream",
          "name": "stdout",
          "text": [
            "Using device: cuda\n"
          ]
        }
      ]
    },
    {
      "cell_type": "code",
      "source": [
        "# --- 2. Data Loading and Preprocessing (Corrected) ---\n",
        "# We define transformations for our data. For the training set, we apply augmentations\n",
        "# to make our model more robust. The test set only gets normalized.\n",
        "def get_data_loaders():\n",
        "    \"\"\"\n",
        "    Prepares and returns the CIFAR-10 data loaders for training, validation, and testing.\n",
        "    This version corrects the data splitting logic to prevent TypeErrors.\n",
        "    \"\"\"\n",
        "    # Transformations for the training data to introduce variability\n",
        "    train_transform = transforms.Compose([\n",
        "        transforms.RandomCrop(32, padding=4),\n",
        "        transforms.RandomHorizontalFlip(),\n",
        "        transforms.ToTensor(),\n",
        "        transforms.Normalize((0.4914, 0.4822, 0.4465), (0.2023, 0.1994, 0.2010))\n",
        "    ])\n",
        "\n",
        "    # For validation and test data, we only normalize\n",
        "    test_transform = transforms.Compose([\n",
        "        transforms.ToTensor(),\n",
        "        transforms.Normalize((0.4914, 0.4822, 0.4465), (0.2023, 0.1994, 0.2010))\n",
        "    ])\n",
        "\n",
        "    # Custom Dataset to apply transformations to a subset of data\n",
        "    class TransformedSubset(torch.utils.data.Dataset):\n",
        "        def __init__(self, subset, transform=None):\n",
        "            self.subset = subset\n",
        "            self.transform = transform\n",
        "\n",
        "        def __getitem__(self, index):\n",
        "            # The subset gets the raw (PIL Image, label) tuple\n",
        "            x, y = self.subset[index]\n",
        "            if self.transform:\n",
        "                # Apply the specified transform\n",
        "                x = self.transform(x)\n",
        "            return x, y\n",
        "\n",
        "        def __len__(self):\n",
        "            return len(self.subset)\n",
        "\n",
        "\n",
        "    # Download the full training dataset WITHOUT applying transforms yet\n",
        "    raw_train_dataset = torchvision.datasets.CIFAR10(\n",
        "        root=config.DATASET_PATH, train=True, download=True, transform=None\n",
        "    )\n",
        "\n",
        "    # Split the raw dataset into training and validation sets\n",
        "    train_size = int(0.85 * len(raw_train_dataset))\n",
        "    val_size = len(raw_train_dataset) - train_size\n",
        "    # Use a generator for reproducible splits\n",
        "    train_subset, val_subset = random_split(raw_train_dataset, [train_size, val_size],\n",
        "                                            generator=torch.Generator().manual_seed(42))\n",
        "\n",
        "    # Now, apply the correct transforms to the subsets using our wrapper\n",
        "    train_dataset = TransformedSubset(train_subset, transform=train_transform)\n",
        "    val_dataset = TransformedSubset(val_subset, transform=test_transform)\n",
        "\n",
        "    # Download and load the test dataset with the test transform\n",
        "    test_dataset = torchvision.datasets.CIFAR10(\n",
        "        root=config.DATASET_PATH, train=False, download=True, transform=test_transform\n",
        "    )\n",
        "\n",
        "    # Create DataLoaders\n",
        "    train_loader = DataLoader(train_dataset, batch_size=config.BATCH_SIZE, shuffle=True, num_workers=2)\n",
        "    val_loader = DataLoader(val_dataset, batch_size=config.BATCH_SIZE, shuffle=False, num_workers=2)\n",
        "    test_loader = DataLoader(test_dataset, batch_size=config.BATCH_SIZE, shuffle=False, num_workers=2)\n",
        "\n",
        "    return train_loader, val_loader, test_loader"
      ],
      "metadata": {
        "id": "C0ATUVwWmECr"
      },
      "execution_count": 10,
      "outputs": []
    },
    {
      "cell_type": "code",
      "source": [
        "# --- 3. Model Architecture (Mini-ResNet) ---\n",
        "\n",
        "class ResidualBlock(nn.Module):\n",
        "    \"\"\"\n",
        "    A single residual block for the ResNet.\n",
        "    It consists of two convolutional layers with batch normalization.\n",
        "    The input to the block is added to the output of the second conv layer (a \"shortcut\" connection).\n",
        "    \"\"\"\n",
        "    def __init__(self, in_channels, out_channels):\n",
        "        super(ResidualBlock, self).__init__()\n",
        "\n",
        "        # Main path\n",
        "        self.conv1 = nn.Conv2d(in_channels, out_channels, kernel_size=3, stride=1, padding=1, bias=False)\n",
        "        self.bn1 = nn.BatchNorm2d(out_channels)\n",
        "        self.relu = nn.ReLU(inplace=True)\n",
        "        self.conv2 = nn.Conv2d(out_channels, out_channels, kernel_size=3, stride=1, padding=1, bias=False)\n",
        "        self.bn2 = nn.BatchNorm2d(out_channels)\n",
        "\n",
        "        # Shortcut connection to match dimensions if in_channels != out_channels\n",
        "        self.shortcut = nn.Sequential()\n",
        "        if in_channels != out_channels:\n",
        "            self.shortcut = nn.Sequential(\n",
        "                nn.Conv2d(in_channels, out_channels, kernel_size=1, stride=1, bias=False),\n",
        "                nn.BatchNorm2d(out_channels)\n",
        "            )\n",
        "\n",
        "    def forward(self, x):\n",
        "        # Main path\n",
        "        out = self.relu(self.bn1(self.conv1(x)))\n",
        "        out = self.bn2(self.conv2(out))\n",
        "\n",
        "        # Add shortcut connection\n",
        "        out += self.shortcut(x)\n",
        "\n",
        "        # Final ReLU activation\n",
        "        out = self.relu(out)\n",
        "        return out\n",
        "\n",
        "class MiniResNet(nn.Module):\n",
        "    \"\"\"\n",
        "    The main model architecture, inspired by ResNet.\n",
        "    \"\"\"\n",
        "    def __init__(self, num_classes=10):\n",
        "        super(MiniResNet, self).__init__()\n",
        "\n",
        "        # Initial convolutional layer\n",
        "        self.in_conv = nn.Sequential(\n",
        "            nn.Conv2d(3, config.RES_BLOCK_CHANNELS[0], kernel_size=3, stride=1, padding=1, bias=False),\n",
        "            nn.BatchNorm2d(config.RES_BLOCK_CHANNELS[0]),\n",
        "            nn.ReLU(inplace=True)\n",
        "        )\n",
        "\n",
        "        # Residual blocks and pooling\n",
        "        self.res_block1 = ResidualBlock(config.RES_BLOCK_CHANNELS[0], config.RES_BLOCK_CHANNELS[0])\n",
        "        self.pool1 = nn.MaxPool2d(2)\n",
        "        # Note: The input to the second block is the output of the first\n",
        "        self.res_block2 = ResidualBlock(config.RES_BLOCK_CHANNELS[0], config.RES_BLOCK_CHANNELS[1])\n",
        "        self.pool2 = nn.MaxPool2d(2)\n",
        "\n",
        "        # Final classification layers\n",
        "        self.avg_pool = nn.AdaptiveAvgPool2d((1, 1))\n",
        "        self.flatten = nn.Flatten()\n",
        "        self.fc = nn.Linear(config.RES_BLOCK_CHANNELS[1], num_classes)\n",
        "\n",
        "    def forward(self, x):\n",
        "        x = self.in_conv(x)\n",
        "        x = self.res_block1(x)\n",
        "        x = self.pool1(x)\n",
        "        x = self.res_block2(x)\n",
        "        x = self.pool2(x)\n",
        "        x = self.avg_pool(x)\n",
        "        x = self.flatten(x)\n",
        "        x = self.fc(x)\n",
        "        return x"
      ],
      "metadata": {
        "id": "I9vAe80NmQre"
      },
      "execution_count": 11,
      "outputs": []
    },
    {
      "cell_type": "code",
      "source": [
        "# --- 4. Training and Evaluation Loops ---\n",
        "\n",
        "def train_one_epoch(model, loader, optimizer, criterion, device):\n",
        "    \"\"\"Trains the model for one epoch.\"\"\"\n",
        "    model.train()\n",
        "    running_loss = 0.0\n",
        "    correct_predictions = 0\n",
        "    total_samples = 0\n",
        "\n",
        "    # Using tqdm for a progress bar\n",
        "    progress_bar = tqdm(loader, desc=\"Training\", leave=False)\n",
        "    for inputs, labels in progress_bar:\n",
        "        inputs, labels = inputs.to(device), labels.to(device)\n",
        "\n",
        "        # Zero the parameter gradients\n",
        "        optimizer.zero_grad()\n",
        "\n",
        "        # Forward pass\n",
        "        outputs = model(inputs)\n",
        "        loss = criterion(outputs, labels)\n",
        "\n",
        "        # Backward pass and optimize\n",
        "        loss.backward()\n",
        "        optimizer.step()\n",
        "\n",
        "        # Statistics\n",
        "        running_loss += loss.item() * inputs.size(0)\n",
        "        _, predicted = torch.max(outputs.data, 1)\n",
        "        total_samples += labels.size(0)\n",
        "        correct_predictions += (predicted == labels).sum().item()\n",
        "\n",
        "        progress_bar.set_postfix(loss=loss.item())\n",
        "\n",
        "    epoch_loss = running_loss / total_samples\n",
        "    epoch_acc = correct_predictions / total_samples\n",
        "    return epoch_loss, epoch_acc\n",
        "\n",
        "\n",
        "def validate_one_epoch(model, loader, criterion, device):\n",
        "    \"\"\"Validates the model for one epoch.\"\"\"\n",
        "    model.eval()\n",
        "    running_loss = 0.0\n",
        "    correct_predictions = 0\n",
        "    total_samples = 0\n",
        "\n",
        "    with torch.no_grad():\n",
        "        progress_bar = tqdm(loader, desc=\"Validating\", leave=False)\n",
        "        for inputs, labels in progress_bar:\n",
        "            inputs, labels = inputs.to(device), labels.to(device)\n",
        "\n",
        "            outputs = model(inputs)\n",
        "            loss = criterion(outputs, labels)\n",
        "\n",
        "            running_loss += loss.item() * inputs.size(0)\n",
        "            _, predicted = torch.max(outputs.data, 1)\n",
        "            total_samples += labels.size(0)\n",
        "            correct_predictions += (predicted == labels).sum().item()\n",
        "\n",
        "    epoch_loss = running_loss / total_samples\n",
        "    epoch_acc = correct_predictions / total_samples\n",
        "    return epoch_loss, epoch_acc"
      ],
      "metadata": {
        "id": "dqnCa3F1md43"
      },
      "execution_count": 12,
      "outputs": []
    },
    {
      "cell_type": "code",
      "source": [
        "# --- 5. Main Execution ---\n",
        "\n",
        "if __name__ == \"__main__\":\n",
        "    # Get data loaders\n",
        "    train_loader, val_loader, test_loader = get_data_loaders()\n",
        "\n",
        "    # Initialize model, criterion, and optimizer\n",
        "    model = MiniResNet(num_classes=config.NUM_CLASSES).to(config.DEVICE)\n",
        "    criterion = nn.CrossEntropyLoss()\n",
        "    optimizer = optim.Adam(model.parameters(), lr=config.LEARNING_RATE)\n",
        "\n",
        "    # Learning rate scheduler\n",
        "    scheduler = optim.lr_scheduler.ReduceLROnPlateau(\n",
        "        optimizer,\n",
        "        'min', # reduce on validation loss\n",
        "        patience=config.SCHEDULER_PATIENCE,\n",
        "        factor=config.SCHEDULER_FACTOR,\n",
        "        verbose=True\n",
        "    )\n",
        "\n",
        "    # Early stopping variables\n",
        "    best_val_loss = float('inf')\n",
        "    epochs_no_improve = 0\n",
        "    best_model_weights = None\n",
        "\n",
        "    print(\"\\n--- Starting Training ---\")\n",
        "    for epoch in range(config.EPOCHS):\n",
        "        print(f\"\\nEpoch {epoch+1}/{config.EPOCHS}\")\n",
        "\n",
        "        train_loss, train_acc = train_one_epoch(model, train_loader, optimizer, criterion, config.DEVICE)\n",
        "        val_loss, val_acc = validate_one_epoch(model, val_loader, criterion, config.DEVICE)\n",
        "\n",
        "        print(f\"Train Loss: {train_loss:.4f} | Train Acc: {train_acc*100:.2f}%\")\n",
        "        print(f\"Val Loss:   {val_loss:.4f} | Val Acc:   {val_acc*100:.2f}%\")\n",
        "\n",
        "        # Update scheduler\n",
        "        scheduler.step(val_loss)\n",
        "\n",
        "        # Early stopping check\n",
        "        if val_loss < best_val_loss:\n",
        "            best_val_loss = val_loss\n",
        "            epochs_no_improve = 0\n",
        "            # Save the best model weights\n",
        "            best_model_weights = model.state_dict()\n",
        "            print(f\"Validation loss improved. Saving model.\")\n",
        "        else:\n",
        "            epochs_no_improve += 1\n",
        "            print(f\"Validation loss did not improve. Counter: {epochs_no_improve}/{config.EARLY_STOPPING_PATIENCE}\")\n",
        "\n",
        "        if epochs_no_improve >= config.EARLY_STOPPING_PATIENCE:\n",
        "            print(\"\\nEarly stopping triggered!\")\n",
        "            break\n",
        "\n",
        "    print(\"\\n--- Training Finished ---\")\n",
        "\n",
        "    # Load the best model weights for final evaluation\n",
        "    if best_model_weights:\n",
        "        print(\"\\nLoading best model weights for final testing.\")\n",
        "        model.load_state_dict(best_model_weights)\n",
        "    else:\n",
        "        print(\"\\nNo best model weights found, using the last model state.\")\n",
        "\n",
        "    # Final evaluation on the test set\n",
        "    test_loss, test_acc = validate_one_epoch(model, test_loader, criterion, config.DEVICE)\n",
        "    print(\"\\n--- Final Test Results ---\")\n",
        "    print(f\"Test Loss: {test_loss:.4f} | Test Acc: {test_acc*100:.2f}%\")"
      ],
      "metadata": {
        "colab": {
          "base_uri": "https://localhost:8080/"
        },
        "id": "_cc__jhkmkLG",
        "outputId": "120c7278-06de-41d5-f326-501123bd54be"
      },
      "execution_count": 13,
      "outputs": [
        {
          "output_type": "stream",
          "name": "stderr",
          "text": [
            "/usr/local/lib/python3.11/dist-packages/torch/optim/lr_scheduler.py:62: UserWarning: The verbose parameter is deprecated. Please use get_last_lr() to access the learning rate.\n",
            "  warnings.warn(\n"
          ]
        },
        {
          "output_type": "stream",
          "name": "stdout",
          "text": [
            "\n",
            "--- Starting Training ---\n",
            "\n",
            "Epoch 1/20\n"
          ]
        },
        {
          "output_type": "stream",
          "name": "stderr",
          "text": []
        },
        {
          "output_type": "stream",
          "name": "stdout",
          "text": [
            "Train Loss: 1.5045 | Train Acc: 45.51%\n",
            "Val Loss:   1.5176 | Val Acc:   45.77%\n",
            "Validation loss improved. Saving model.\n",
            "\n",
            "Epoch 2/20\n"
          ]
        },
        {
          "output_type": "stream",
          "name": "stderr",
          "text": []
        },
        {
          "output_type": "stream",
          "name": "stdout",
          "text": [
            "Train Loss: 1.1601 | Train Acc: 58.74%\n",
            "Val Loss:   1.2316 | Val Acc:   57.91%\n",
            "Validation loss improved. Saving model.\n",
            "\n",
            "Epoch 3/20\n"
          ]
        },
        {
          "output_type": "stream",
          "name": "stderr",
          "text": []
        },
        {
          "output_type": "stream",
          "name": "stdout",
          "text": [
            "Train Loss: 1.0165 | Train Acc: 64.22%\n",
            "Val Loss:   1.2967 | Val Acc:   55.41%\n",
            "Validation loss did not improve. Counter: 1/7\n",
            "\n",
            "Epoch 4/20\n"
          ]
        },
        {
          "output_type": "stream",
          "name": "stderr",
          "text": []
        },
        {
          "output_type": "stream",
          "name": "stdout",
          "text": [
            "Train Loss: 0.9313 | Train Acc: 67.27%\n",
            "Val Loss:   0.9974 | Val Acc:   64.24%\n",
            "Validation loss improved. Saving model.\n",
            "\n",
            "Epoch 5/20\n"
          ]
        },
        {
          "output_type": "stream",
          "name": "stderr",
          "text": []
        },
        {
          "output_type": "stream",
          "name": "stdout",
          "text": [
            "Train Loss: 0.8702 | Train Acc: 69.37%\n",
            "Val Loss:   0.9082 | Val Acc:   68.44%\n",
            "Validation loss improved. Saving model.\n",
            "\n",
            "Epoch 6/20\n"
          ]
        },
        {
          "output_type": "stream",
          "name": "stderr",
          "text": []
        },
        {
          "output_type": "stream",
          "name": "stdout",
          "text": [
            "Train Loss: 0.8234 | Train Acc: 71.43%\n",
            "Val Loss:   1.0214 | Val Acc:   66.19%\n",
            "Validation loss did not improve. Counter: 1/7\n",
            "\n",
            "Epoch 7/20\n"
          ]
        },
        {
          "output_type": "stream",
          "name": "stderr",
          "text": []
        },
        {
          "output_type": "stream",
          "name": "stdout",
          "text": [
            "Train Loss: 0.7820 | Train Acc: 72.85%\n",
            "Val Loss:   0.7859 | Val Acc:   71.99%\n",
            "Validation loss improved. Saving model.\n",
            "\n",
            "Epoch 8/20\n"
          ]
        },
        {
          "output_type": "stream",
          "name": "stderr",
          "text": []
        },
        {
          "output_type": "stream",
          "name": "stdout",
          "text": [
            "Train Loss: 0.7519 | Train Acc: 73.88%\n",
            "Val Loss:   0.8638 | Val Acc:   69.84%\n",
            "Validation loss did not improve. Counter: 1/7\n",
            "\n",
            "Epoch 9/20\n"
          ]
        },
        {
          "output_type": "stream",
          "name": "stderr",
          "text": []
        },
        {
          "output_type": "stream",
          "name": "stdout",
          "text": [
            "Train Loss: 0.7268 | Train Acc: 74.96%\n",
            "Val Loss:   0.9173 | Val Acc:   69.03%\n",
            "Validation loss did not improve. Counter: 2/7\n",
            "\n",
            "Epoch 10/20\n"
          ]
        },
        {
          "output_type": "stream",
          "name": "stderr",
          "text": []
        },
        {
          "output_type": "stream",
          "name": "stdout",
          "text": [
            "Train Loss: 0.7013 | Train Acc: 75.67%\n",
            "Val Loss:   0.7990 | Val Acc:   72.19%\n",
            "Validation loss did not improve. Counter: 3/7\n",
            "\n",
            "Epoch 11/20\n"
          ]
        },
        {
          "output_type": "stream",
          "name": "stderr",
          "text": []
        },
        {
          "output_type": "stream",
          "name": "stdout",
          "text": [
            "Train Loss: 0.6851 | Train Acc: 76.16%\n",
            "Val Loss:   0.8136 | Val Acc:   72.48%\n",
            "Validation loss did not improve. Counter: 4/7\n",
            "\n",
            "Epoch 12/20\n"
          ]
        },
        {
          "output_type": "stream",
          "name": "stderr",
          "text": []
        },
        {
          "output_type": "stream",
          "name": "stdout",
          "text": [
            "Train Loss: 0.6676 | Train Acc: 76.87%\n",
            "Val Loss:   0.7429 | Val Acc:   74.24%\n",
            "Validation loss improved. Saving model.\n",
            "\n",
            "Epoch 13/20\n"
          ]
        },
        {
          "output_type": "stream",
          "name": "stderr",
          "text": []
        },
        {
          "output_type": "stream",
          "name": "stdout",
          "text": [
            "Train Loss: 0.6497 | Train Acc: 77.51%\n",
            "Val Loss:   1.1367 | Val Acc:   63.49%\n",
            "Validation loss did not improve. Counter: 1/7\n",
            "\n",
            "Epoch 14/20\n"
          ]
        },
        {
          "output_type": "stream",
          "name": "stderr",
          "text": []
        },
        {
          "output_type": "stream",
          "name": "stdout",
          "text": [
            "Train Loss: 0.6357 | Train Acc: 78.01%\n",
            "Val Loss:   0.9856 | Val Acc:   67.88%\n",
            "Validation loss did not improve. Counter: 2/7\n",
            "\n",
            "Epoch 15/20\n"
          ]
        },
        {
          "output_type": "stream",
          "name": "stderr",
          "text": []
        },
        {
          "output_type": "stream",
          "name": "stdout",
          "text": [
            "Train Loss: 0.6201 | Train Acc: 78.61%\n",
            "Val Loss:   0.7749 | Val Acc:   74.36%\n",
            "Validation loss did not improve. Counter: 3/7\n",
            "\n",
            "Epoch 16/20\n"
          ]
        },
        {
          "output_type": "stream",
          "name": "stderr",
          "text": []
        },
        {
          "output_type": "stream",
          "name": "stdout",
          "text": [
            "Train Loss: 0.6124 | Train Acc: 78.72%\n",
            "Val Loss:   0.6991 | Val Acc:   76.64%\n",
            "Validation loss improved. Saving model.\n",
            "\n",
            "Epoch 17/20\n"
          ]
        },
        {
          "output_type": "stream",
          "name": "stderr",
          "text": []
        },
        {
          "output_type": "stream",
          "name": "stdout",
          "text": [
            "Train Loss: 0.5987 | Train Acc: 79.43%\n",
            "Val Loss:   0.8401 | Val Acc:   72.23%\n",
            "Validation loss did not improve. Counter: 1/7\n",
            "\n",
            "Epoch 18/20\n"
          ]
        },
        {
          "output_type": "stream",
          "name": "stderr",
          "text": []
        },
        {
          "output_type": "stream",
          "name": "stdout",
          "text": [
            "Train Loss: 0.5880 | Train Acc: 79.79%\n",
            "Val Loss:   0.8798 | Val Acc:   71.96%\n",
            "Validation loss did not improve. Counter: 2/7\n",
            "\n",
            "Epoch 19/20\n"
          ]
        },
        {
          "output_type": "stream",
          "name": "stderr",
          "text": []
        },
        {
          "output_type": "stream",
          "name": "stdout",
          "text": [
            "Train Loss: 0.5794 | Train Acc: 80.25%\n",
            "Val Loss:   0.6539 | Val Acc:   77.24%\n",
            "Validation loss improved. Saving model.\n",
            "\n",
            "Epoch 20/20\n"
          ]
        },
        {
          "output_type": "stream",
          "name": "stderr",
          "text": []
        },
        {
          "output_type": "stream",
          "name": "stdout",
          "text": [
            "Train Loss: 0.5690 | Train Acc: 80.42%\n",
            "Val Loss:   0.6432 | Val Acc:   77.96%\n",
            "Validation loss improved. Saving model.\n",
            "\n",
            "--- Training Finished ---\n",
            "\n",
            "Loading best model weights for final testing.\n"
          ]
        },
        {
          "output_type": "stream",
          "name": "stderr",
          "text": [
            "                                                             "
          ]
        },
        {
          "output_type": "stream",
          "name": "stdout",
          "text": [
            "\n",
            "--- Final Test Results ---\n",
            "Test Loss: 0.6553 | Test Acc: 78.05%\n"
          ]
        },
        {
          "output_type": "stream",
          "name": "stderr",
          "text": [
            "\r"
          ]
        }
      ]
    }
  ]
}