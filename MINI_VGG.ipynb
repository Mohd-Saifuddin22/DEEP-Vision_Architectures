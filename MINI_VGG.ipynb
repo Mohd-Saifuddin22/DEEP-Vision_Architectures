{
  "nbformat": 4,
  "nbformat_minor": 0,
  "metadata": {
    "colab": {
      "provenance": [],
      "gpuType": "T4"
    },
    "kernelspec": {
      "name": "python3",
      "display_name": "Python 3"
    },
    "language_info": {
      "name": "python"
    },
    "accelerator": "GPU"
  },
  "cells": [
    {
      "cell_type": "code",
      "execution_count": 12,
      "metadata": {
        "id": "FU0kjYlvPLCt"
      },
      "outputs": [],
      "source": [
        "import torch\n",
        "import torch.nn as nn\n",
        "import torch.optim as optim\n",
        "import torchvision\n",
        "import torchvision.transforms as transforms\n",
        "import time"
      ]
    },
    {
      "cell_type": "code",
      "source": [
        "# =================================================================================\n",
        "# 1. TWEAKABLE HYPERPARAMETERS\n",
        "# =================================================================================\n",
        "# Feel free to change these values to experiment with the model.\n",
        "\n",
        "# The number of times the model will see the entire training dataset.\n",
        "NUM_EPOCHS = 10\n",
        "# The number of images processed in a single batch.\n",
        "BATCH_SIZE = 64\n",
        "# How fast the model learns. A smaller value means slower, potentially more stable learning.\n",
        "LEARNING_RATE = 0.001"
      ],
      "metadata": {
        "id": "1BlhT1WTPc5x"
      },
      "execution_count": 13,
      "outputs": []
    },
    {
      "cell_type": "code",
      "source": [
        "# =================================================================================\n",
        "# 2. DEVICE CONFIGURATION\n",
        "# =================================================================================\n",
        "# This sets up the device to use a GPU (like NVIDIA's CUDA) if available.\n",
        "# Training on a GPU is significantly faster than on a CPU.\n",
        "\n",
        "device = torch.device('cuda' if torch.cuda.is_available() else 'cpu')\n",
        "print(f\"Using device: {device}\")"
      ],
      "metadata": {
        "colab": {
          "base_uri": "https://localhost:8080/"
        },
        "id": "245f4cX7PgWO",
        "outputId": "89c4de91-101f-4154-e167-e8321c97e9c6"
      },
      "execution_count": 14,
      "outputs": [
        {
          "output_type": "stream",
          "name": "stdout",
          "text": [
            "Using device: cuda\n"
          ]
        }
      ]
    },
    {
      "cell_type": "code",
      "source": [
        "# =================================================================================\n",
        "# 3. DATA PREPARATION\n",
        "# =================================================================================\n",
        "# We need to prepare the CIFAR-10 dataset for our model.\n",
        "# This involves two main steps:\n",
        "#   a) Transforming the data into a format the model can use (tensors).\n",
        "#   b) Normalizing the data to help the model train more effectively.\n",
        "\n",
        "# The transform pipeline first converts images to PyTorch tensors,\n",
        "# then normalizes their pixel values. Normalization helps stabilize training.\n",
        "# The mean and standard deviation values are standard for the CIFAR-10 dataset.\n",
        "transform = transforms.Compose(\n",
        "    [transforms.ToTensor(),\n",
        "     transforms.Normalize((0.5, 0.5, 0.5), (0.5, 0.5, 0.5))])"
      ],
      "metadata": {
        "id": "GFUFD9mCPk4s"
      },
      "execution_count": 15,
      "outputs": []
    },
    {
      "cell_type": "code",
      "source": [
        "# Download the training dataset if not already present.\n",
        "train_dataset = torchvision.datasets.CIFAR10(root='./data',\n",
        "                                             train=True,\n",
        "                                             download=True,\n",
        "                                             transform=transform)\n",
        "\n",
        "# Download the test dataset if not already present.\n",
        "test_dataset = torchvision.datasets.CIFAR10(root='./data',\n",
        "                                            train=False,\n",
        "                                            download=True,\n",
        "                                            transform=transform)\n",
        "\n",
        "# Create data loaders. These are utilities that feed the data to the model\n",
        "# in shuffled batches. Shuffling the training data is important to prevent\n",
        "# the model from learning the order of the data.\n",
        "# Using pin_memory=True can speed up data transfer to the GPU.\n",
        "# num_workers allows for multi-process data loading.\n",
        "train_loader = torch.utils.data.DataLoader(train_dataset,\n",
        "                                           batch_size=BATCH_SIZE,\n",
        "                                           shuffle=True,\n",
        "                                           num_workers=2,\n",
        "                                           pin_memory=True)\n",
        "\n",
        "test_loader = torch.utils.data.DataLoader(test_dataset,\n",
        "                                          batch_size=BATCH_SIZE,\n",
        "                                          shuffle=False,\n",
        "                                          num_workers=2,\n",
        "                                          pin_memory=True)\n",
        "\n",
        "# Define the 10 classes in the CIFAR-10 dataset for reference.\n",
        "classes = ('plane', 'car', 'bird', 'cat', 'deer',\n",
        "           'dog', 'frog', 'horse', 'ship', 'truck')"
      ],
      "metadata": {
        "id": "odTjDB6wPrz0"
      },
      "execution_count": 16,
      "outputs": []
    },
    {
      "cell_type": "code",
      "source": [
        "# =================================================================================\n",
        "# 4. MODEL DEFINITION (MINI-VGG)\n",
        "# =================================================================================\n",
        "# This is our neural network architecture. It's a \"mini\" version of the famous\n",
        "# VGG network. It consists of two blocks of convolutional layers followed by\n",
        "# a classifier (fully connected layers).\n",
        "\n",
        "class MiniVGG(nn.Module):\n",
        "    def __init__(self, num_classes=10):\n",
        "        super(MiniVGG, self).__init__()\n",
        "\n",
        "        # --- Convolutional Blocks ---\n",
        "        # These layers are responsible for detecting features like edges,\n",
        "        # textures, and shapes in the images.\n",
        "        self.features = nn.Sequential(\n",
        "            # Block 1\n",
        "            nn.Conv2d(3, 32, kernel_size=3, padding=1), # 3 input channels (RGB), 32 output channels\n",
        "            nn.ReLU(inplace=True),\n",
        "            nn.Conv2d(32, 32, kernel_size=3, padding=1),\n",
        "            nn.ReLU(inplace=True),\n",
        "            nn.MaxPool2d(kernel_size=2, stride=2), # Reduces spatial dimensions by half\n",
        "\n",
        "            # Block 2\n",
        "            nn.Conv2d(32, 64, kernel_size=3, padding=1),\n",
        "            nn.ReLU(inplace=True),\n",
        "            nn.Conv2d(64, 64, kernel_size=3, padding=1),\n",
        "            nn.ReLU(inplace=True),\n",
        "            nn.MaxPool2d(kernel_size=2, stride=2) # Reduces dimensions again\n",
        "        )\n",
        "\n",
        "        # --- Classifier Block ---\n",
        "        # These layers take the features detected by the convolutional blocks\n",
        "        # and classify the image into one of the 10 categories.\n",
        "        self.classifier = nn.Sequential(\n",
        "            nn.Flatten(), # Flattens the 2D feature map into a 1D vector\n",
        "            nn.Linear(64 * 8 * 8, 512), # The input size depends on the output of the last maxpool layer\n",
        "            nn.ReLU(inplace=True),\n",
        "            nn.Dropout(0.5), # Dropout helps prevent overfitting\n",
        "            nn.Linear(512, num_classes) # The final output layer has 10 neurons, one for each class\n",
        "        )\n",
        "\n",
        "    def forward(self, x):\n",
        "        # Defines the forward pass: how data flows through the network.\n",
        "        x = self.features(x)\n",
        "        x = self.classifier(x)\n",
        "        return x"
      ],
      "metadata": {
        "id": "KUVfN_1gP5YV"
      },
      "execution_count": 17,
      "outputs": []
    },
    {
      "cell_type": "code",
      "source": [
        "model = MiniVGG(num_classes=10).to(device)\n",
        "print(\"\\nModel Architecture:\")\n",
        "print(model)"
      ],
      "metadata": {
        "colab": {
          "base_uri": "https://localhost:8080/"
        },
        "id": "yGZ3utcMP9-U",
        "outputId": "0f12ad60-2304-4aea-9054-c1e7e09b2a4d"
      },
      "execution_count": 19,
      "outputs": [
        {
          "output_type": "stream",
          "name": "stdout",
          "text": [
            "\n",
            "Model Architecture:\n",
            "MiniVGG(\n",
            "  (features): Sequential(\n",
            "    (0): Conv2d(3, 32, kernel_size=(3, 3), stride=(1, 1), padding=(1, 1))\n",
            "    (1): ReLU(inplace=True)\n",
            "    (2): Conv2d(32, 32, kernel_size=(3, 3), stride=(1, 1), padding=(1, 1))\n",
            "    (3): ReLU(inplace=True)\n",
            "    (4): MaxPool2d(kernel_size=2, stride=2, padding=0, dilation=1, ceil_mode=False)\n",
            "    (5): Conv2d(32, 64, kernel_size=(3, 3), stride=(1, 1), padding=(1, 1))\n",
            "    (6): ReLU(inplace=True)\n",
            "    (7): Conv2d(64, 64, kernel_size=(3, 3), stride=(1, 1), padding=(1, 1))\n",
            "    (8): ReLU(inplace=True)\n",
            "    (9): MaxPool2d(kernel_size=2, stride=2, padding=0, dilation=1, ceil_mode=False)\n",
            "  )\n",
            "  (classifier): Sequential(\n",
            "    (0): Flatten(start_dim=1, end_dim=-1)\n",
            "    (1): Linear(in_features=4096, out_features=512, bias=True)\n",
            "    (2): ReLU(inplace=True)\n",
            "    (3): Dropout(p=0.5, inplace=False)\n",
            "    (4): Linear(in_features=512, out_features=10, bias=True)\n",
            "  )\n",
            ")\n"
          ]
        }
      ]
    },
    {
      "cell_type": "code",
      "source": [
        "# =================================================================================\n",
        "# 5. LOSS FUNCTION AND OPTIMIZER\n",
        "# =================================================================================\n",
        "# The loss function measures how wrong the model's predictions are.\n",
        "# The optimizer adjusts the model's parameters to reduce this loss.\n",
        "\n",
        "criterion = nn.CrossEntropyLoss()\n",
        "optimizer = optim.Adam(model.parameters(), lr=LEARNING_RATE)"
      ],
      "metadata": {
        "id": "3CFo6uptQCIZ"
      },
      "execution_count": 20,
      "outputs": []
    },
    {
      "cell_type": "code",
      "source": [
        "# =================================================================================\n",
        "# 6. TRAINING LOOP\n",
        "# =================================================================================\n",
        "# This is where the magic happens. We loop over our dataset multiple times (epochs),\n",
        "# and for each batch of images, we perform the following steps:\n",
        "#   1. Forward pass: Get the model's predictions.\n",
        "#   2. Calculate loss: See how wrong the predictions are.\n",
        "#   3. Backward pass: Calculate gradients to see how to adjust the model.\n",
        "#   4. Optimization step: Update the model's weights and biases.\n",
        "\n",
        "print(\"\\nStarting Training...\")\n",
        "start_time = time.time()\n",
        "\n",
        "for epoch in range(NUM_EPOCHS):\n",
        "    model.train() # Set the model to training mode\n",
        "    running_loss = 0.0\n",
        "\n",
        "    for i, (images, labels) in enumerate(train_loader):\n",
        "        # Move images and labels to the configured device\n",
        "        images = images.to(device)\n",
        "        labels = labels.to(device)\n",
        "\n",
        "        # 1. Forward pass\n",
        "        outputs = model(images)\n",
        "        loss = criterion(outputs, labels)\n",
        "\n",
        "        # 2. Backward pass and optimization\n",
        "        optimizer.zero_grad() # Clear the gradients from the previous batch\n",
        "        loss.backward()       # Calculate the gradients\n",
        "        optimizer.step()      # Update the model's parameters\n",
        "\n",
        "        running_loss += loss.item()\n",
        "\n",
        "    # --- Print training status ---\n",
        "    epoch_loss = running_loss / len(train_loader)\n",
        "    print(f\"Epoch [{epoch+1}/{NUM_EPOCHS}], Loss: {epoch_loss:.4f}\")\n",
        "\n",
        "    # --- Evaluate on the test set after each epoch ---\n",
        "    model.eval() # Set the model to evaluation mode\n",
        "    with torch.no_grad(): # We don't need to calculate gradients during evaluation\n",
        "        correct = 0\n",
        "        total = 0\n",
        "        for images, labels in test_loader:\n",
        "            images = images.to(device)\n",
        "            labels = labels.to(device)\n",
        "            outputs = model(images)\n",
        "            _, predicted = torch.max(outputs.data, 1)\n",
        "            total += labels.size(0)\n",
        "            correct += (predicted == labels).sum().item()\n",
        "\n",
        "        accuracy = 100 * correct / total\n",
        "        print(f'Accuracy on the 10000 test images: {accuracy:.2f} %')\n",
        "\n",
        "\n",
        "end_time = time.time()\n",
        "print(\"\\nFinished Training.\")\n",
        "print(f\"Total training time: {((end_time - start_time) / 60):.2f} minutes\")"
      ],
      "metadata": {
        "colab": {
          "base_uri": "https://localhost:8080/"
        },
        "id": "qRl3ybdOQIko",
        "outputId": "7f38bc60-0d32-4378-e859-c46804d01809"
      },
      "execution_count": 21,
      "outputs": [
        {
          "output_type": "stream",
          "name": "stdout",
          "text": [
            "\n",
            "Starting Training...\n",
            "Epoch [1/10], Loss: 1.4645\n",
            "Accuracy on the 10000 test images: 60.99 %\n",
            "Epoch [2/10], Loss: 1.0245\n",
            "Accuracy on the 10000 test images: 68.83 %\n",
            "Epoch [3/10], Loss: 0.8509\n",
            "Accuracy on the 10000 test images: 71.66 %\n",
            "Epoch [4/10], Loss: 0.7351\n",
            "Accuracy on the 10000 test images: 74.85 %\n",
            "Epoch [5/10], Loss: 0.6386\n",
            "Accuracy on the 10000 test images: 75.90 %\n",
            "Epoch [6/10], Loss: 0.5585\n",
            "Accuracy on the 10000 test images: 76.95 %\n",
            "Epoch [7/10], Loss: 0.4961\n",
            "Accuracy on the 10000 test images: 76.72 %\n",
            "Epoch [8/10], Loss: 0.4300\n",
            "Accuracy on the 10000 test images: 76.93 %\n",
            "Epoch [9/10], Loss: 0.3853\n",
            "Accuracy on the 10000 test images: 77.64 %\n",
            "Epoch [10/10], Loss: 0.3386\n",
            "Accuracy on the 10000 test images: 77.36 %\n",
            "\n",
            "Finished Training.\n",
            "Total training time: 2.84 minutes\n"
          ]
        }
      ]
    },
    {
      "cell_type": "code",
      "source": [
        "# =================================================================================\n",
        "# 7. SAVE THE MODEL (Optional)\n",
        "# =================================================================================\n",
        "# You can save the trained model's state for later use.\n",
        "torch.save(model.state_dict(), 'mini_vgg_cifar10.pth')\n",
        "print(\"Model saved to mini_vgg_cifar10.pth\")"
      ],
      "metadata": {
        "colab": {
          "base_uri": "https://localhost:8080/"
        },
        "id": "AKWS5F3BQNi4",
        "outputId": "d7b38cea-8d5b-497c-cc9f-df74d72255fc"
      },
      "execution_count": 10,
      "outputs": [
        {
          "output_type": "stream",
          "name": "stdout",
          "text": [
            "Model saved to mini_vgg_cifar10.pth\n"
          ]
        }
      ]
    }
  ]
}