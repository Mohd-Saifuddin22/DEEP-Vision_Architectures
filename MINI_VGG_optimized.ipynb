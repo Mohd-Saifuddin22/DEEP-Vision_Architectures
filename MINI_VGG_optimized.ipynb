{
  "nbformat": 4,
  "nbformat_minor": 0,
  "metadata": {
    "colab": {
      "provenance": [],
      "gpuType": "T4"
    },
    "kernelspec": {
      "name": "python3",
      "display_name": "Python 3"
    },
    "language_info": {
      "name": "python"
    },
    "accelerator": "GPU"
  },
  "cells": [
    {
      "cell_type": "code",
      "execution_count": 1,
      "metadata": {
        "id": "FU0kjYlvPLCt"
      },
      "outputs": [],
      "source": [
        "import torch\n",
        "import torch.nn as nn\n",
        "import torch.optim as optim\n",
        "import torchvision\n",
        "import torchvision.transforms as transforms\n",
        "import time"
      ]
    },
    {
      "cell_type": "code",
      "source": [
        "# =================================================================================\n",
        "# 1. TWEAKABLE HYPERPARAMETERS\n",
        "# =================================================================================\n",
        "# Feel free to change these values to experiment with the model.\n",
        "\n",
        "# The number of times the model will see the entire training dataset.\n",
        "NUM_EPOCHS = 20\n",
        "# The number of images processed in a single batch.\n",
        "BATCH_SIZE = 64\n",
        "# How fast the model learns. A smaller value means slower, potentially more stable learning.\n",
        "LEARNING_RATE = 0.001"
      ],
      "metadata": {
        "id": "1BlhT1WTPc5x"
      },
      "execution_count": 12,
      "outputs": []
    },
    {
      "cell_type": "code",
      "source": [
        "# =================================================================================\n",
        "# 2. DEVICE CONFIGURATION\n",
        "# =================================================================================\n",
        "# This sets up the device to use a GPU (like NVIDIA's CUDA) if available.\n",
        "# Training on a GPU is significantly faster than on a CPU.\n",
        "\n",
        "device = torch.device('cuda' if torch.cuda.is_available() else 'cpu')\n",
        "print(f\"Using device: {device}\")"
      ],
      "metadata": {
        "colab": {
          "base_uri": "https://localhost:8080/"
        },
        "id": "245f4cX7PgWO",
        "outputId": "aa8085ae-808a-49ae-b125-e2b5a2bcf9fa"
      },
      "execution_count": 3,
      "outputs": [
        {
          "output_type": "stream",
          "name": "stdout",
          "text": [
            "Using device: cuda\n"
          ]
        }
      ]
    },
    {
      "cell_type": "code",
      "source": [
        "# =================================================================================\n",
        "# 3. DATA PREPARATION\n",
        "# =================================================================================\n",
        "# We need to prepare the CIFAR-10 dataset for our model.\n",
        "# This involves two main steps:\n",
        "#   a) Transforming the data into a format the model can use (tensors).\n",
        "#   b) Normalizing the data to help the model train more effectively.\n",
        "\n",
        "# The transform pipeline first converts images to PyTorch tensors,\n",
        "# then normalizes their pixel values. Normalization helps stabilize training.\n",
        "# The mean and standard deviation values are standard for the CIFAR-10 dataset.\n",
        "transform = transforms.Compose(\n",
        "    [transforms.ToTensor(),\n",
        "     transforms.Normalize((0.5, 0.5, 0.5), (0.5, 0.5, 0.5))])"
      ],
      "metadata": {
        "id": "GFUFD9mCPk4s"
      },
      "execution_count": 4,
      "outputs": []
    },
    {
      "cell_type": "code",
      "source": [
        "# Download the training dataset if not already present.\n",
        "train_dataset = torchvision.datasets.CIFAR10(root='./data',\n",
        "                                             train=True,\n",
        "                                             download=True,\n",
        "                                             transform=transform)\n",
        "\n",
        "# Download the test dataset if not already present.\n",
        "test_dataset = torchvision.datasets.CIFAR10(root='./data',\n",
        "                                            train=False,\n",
        "                                            download=True,\n",
        "                                            transform=transform)\n",
        "\n",
        "# Create data loaders. These are utilities that feed the data to the model\n",
        "# in shuffled batches. Shuffling the training data is important to prevent\n",
        "# the model from learning the order of the data.\n",
        "# Using pin_memory=True can speed up data transfer to the GPU.\n",
        "# num_workers allows for multi-process data loading.\n",
        "train_loader = torch.utils.data.DataLoader(train_dataset,\n",
        "                                           batch_size=BATCH_SIZE,\n",
        "                                           shuffle=True,\n",
        "                                           num_workers=2,\n",
        "                                           pin_memory=True)\n",
        "\n",
        "test_loader = torch.utils.data.DataLoader(test_dataset,\n",
        "                                          batch_size=BATCH_SIZE,\n",
        "                                          shuffle=False,\n",
        "                                          num_workers=2,\n",
        "                                          pin_memory=True)\n",
        "\n",
        "# Define the 10 classes in the CIFAR-10 dataset for reference.\n",
        "classes = ('plane', 'car', 'bird', 'cat', 'deer',\n",
        "           'dog', 'frog', 'horse', 'ship', 'truck')"
      ],
      "metadata": {
        "id": "odTjDB6wPrz0",
        "colab": {
          "base_uri": "https://localhost:8080/"
        },
        "outputId": "8be6a272-96ef-4d65-b239-a022c921ac11"
      },
      "execution_count": 5,
      "outputs": [
        {
          "output_type": "stream",
          "name": "stderr",
          "text": [
            "100%|██████████| 170M/170M [00:04<00:00, 40.5MB/s]\n"
          ]
        }
      ]
    },
    {
      "cell_type": "code",
      "source": [
        "# =================================================================================\n",
        "# 4. MODEL DEFINITION (MINI-VGG)\n",
        "# =================================================================================\n",
        "# This is our neural network architecture. It's a \"mini\" version of the famous\n",
        "# VGG network. It consists of two blocks of convolutional layers followed by\n",
        "# a classifier (fully connected layers).\n",
        "\n",
        "class MiniVGG(nn.Module):\n",
        "    def __init__(self, num_classes=10):\n",
        "        super(MiniVGG, self).__init__()\n",
        "\n",
        "        # --- Convolutional Blocks ---\n",
        "        # These layers are responsible for detecting features like edges,\n",
        "        # textures, and shapes in the images.\n",
        "        self.features = nn.Sequential(\n",
        "            # Block 1\n",
        "            nn.Conv2d(3, 32, kernel_size=3, padding=1),\n",
        "            nn.BatchNorm2d(32),# 3 input channels (RGB), 32 output channels\n",
        "            nn.ReLU(inplace=True),\n",
        "            nn.Conv2d(32, 32, kernel_size=3, padding=1),\n",
        "            nn.BatchNorm2d(32),\n",
        "            nn.ReLU(inplace=True),\n",
        "            nn.MaxPool2d(kernel_size=2, stride=2), # Reduces spatial dimensions by half\n",
        "\n",
        "            # Block 2\n",
        "            nn.Conv2d(32, 64, kernel_size=3, padding=1),\n",
        "            nn.ReLU(inplace=True),\n",
        "            nn.Conv2d(64, 64, kernel_size=3, padding=1),\n",
        "            nn.ReLU(inplace=True),\n",
        "            nn.MaxPool2d(kernel_size=2, stride=2) # Reduces dimensions again\n",
        "        )\n",
        "\n",
        "        # --- Classifier Block ---\n",
        "        # These layers take the features detected by the convolutional blocks\n",
        "        # and classify the image into one of the 10 categories.\n",
        "        self.classifier = nn.Sequential(\n",
        "            nn.Flatten(), # Flattens the 2D feature map into a 1D vector\n",
        "            nn.Linear(64 * 8 * 8, 512), # The input size depends on the output of the last maxpool layer\n",
        "            nn.ReLU(inplace=True),\n",
        "            nn.Dropout(0.5), # Dropout helps prevent overfitting\n",
        "            nn.Linear(512, num_classes) # The final output layer has 10 neurons, one for each class\n",
        "        )\n",
        "\n",
        "    def forward(self, x):\n",
        "        # Defines the forward pass: how data flows through the network.\n",
        "        x = self.features(x)\n",
        "        x = self.classifier(x)\n",
        "        return x"
      ],
      "metadata": {
        "id": "KUVfN_1gP5YV"
      },
      "execution_count": 7,
      "outputs": []
    },
    {
      "cell_type": "code",
      "source": [
        "model = MiniVGG(num_classes=10).to(device)\n",
        "print(\"\\nModel Architecture:\")\n",
        "print(model)"
      ],
      "metadata": {
        "colab": {
          "base_uri": "https://localhost:8080/"
        },
        "id": "yGZ3utcMP9-U",
        "outputId": "ab52d2a9-34b1-454a-853a-dd092e799419"
      },
      "execution_count": 8,
      "outputs": [
        {
          "output_type": "stream",
          "name": "stdout",
          "text": [
            "\n",
            "Model Architecture:\n",
            "MiniVGG(\n",
            "  (features): Sequential(\n",
            "    (0): Conv2d(3, 32, kernel_size=(3, 3), stride=(1, 1), padding=(1, 1))\n",
            "    (1): BatchNorm2d(32, eps=1e-05, momentum=0.1, affine=True, track_running_stats=True)\n",
            "    (2): ReLU(inplace=True)\n",
            "    (3): Conv2d(32, 32, kernel_size=(3, 3), stride=(1, 1), padding=(1, 1))\n",
            "    (4): BatchNorm2d(32, eps=1e-05, momentum=0.1, affine=True, track_running_stats=True)\n",
            "    (5): ReLU(inplace=True)\n",
            "    (6): MaxPool2d(kernel_size=2, stride=2, padding=0, dilation=1, ceil_mode=False)\n",
            "    (7): Conv2d(32, 64, kernel_size=(3, 3), stride=(1, 1), padding=(1, 1))\n",
            "    (8): ReLU(inplace=True)\n",
            "    (9): Conv2d(64, 64, kernel_size=(3, 3), stride=(1, 1), padding=(1, 1))\n",
            "    (10): ReLU(inplace=True)\n",
            "    (11): MaxPool2d(kernel_size=2, stride=2, padding=0, dilation=1, ceil_mode=False)\n",
            "  )\n",
            "  (classifier): Sequential(\n",
            "    (0): Flatten(start_dim=1, end_dim=-1)\n",
            "    (1): Linear(in_features=4096, out_features=512, bias=True)\n",
            "    (2): ReLU(inplace=True)\n",
            "    (3): Dropout(p=0.5, inplace=False)\n",
            "    (4): Linear(in_features=512, out_features=10, bias=True)\n",
            "  )\n",
            ")\n"
          ]
        }
      ]
    },
    {
      "cell_type": "code",
      "source": [
        "# =================================================================================\n",
        "# 5. LOSS FUNCTION AND OPTIMIZER\n",
        "# =================================================================================\n",
        "# The loss function measures how wrong the model's predictions are.\n",
        "# The optimizer adjusts the model's parameters to reduce this loss.\n",
        "\n",
        "criterion = nn.CrossEntropyLoss()\n",
        "optimizer = optim.Adam(model.parameters(), lr=LEARNING_RATE)\n",
        "scheduler = torch.optim.lr_scheduler.ReduceLROnPlateau(optimizer, mode='min', patience=2)"
      ],
      "metadata": {
        "id": "3CFo6uptQCIZ"
      },
      "execution_count": 10,
      "outputs": []
    },
    {
      "cell_type": "code",
      "source": [
        "# =================================================================================\n",
        "# 6. TRAINING LOOP (Final Version with ReduceLROnPlateau)\n",
        "# =================================================================================\n",
        "print(\"\\nStarting Training...\")\n",
        "start_time = time.time()\n",
        "\n",
        "# Initialize the learning rate scheduler\n",
        "scheduler = torch.optim.lr_scheduler.ReduceLROnPlateau(optimizer, mode='min', patience=2)\n",
        "\n",
        "for epoch in range(NUM_EPOCHS):\n",
        "    model.train()  # Set model to training mode\n",
        "    running_loss = 0.0\n",
        "\n",
        "    for i, (images, labels) in enumerate(train_loader):\n",
        "        # Move data to device\n",
        "        images = images.to(device)\n",
        "        labels = labels.to(device)\n",
        "\n",
        "        # Forward pass\n",
        "        outputs = model(images)\n",
        "        loss = criterion(outputs, labels)\n",
        "\n",
        "        # Backward pass and optimization\n",
        "        optimizer.zero_grad()\n",
        "        loss.backward()\n",
        "        optimizer.step()\n",
        "\n",
        "        running_loss += loss.item()\n",
        "\n",
        "    # --- Training statistics ---\n",
        "    epoch_loss = running_loss / len(train_loader)\n",
        "    print(f\"Epoch [{epoch+1}/{NUM_EPOCHS}], Training Loss: {epoch_loss:.4f}\")\n",
        "\n",
        "    # --- Validation Phase ---\n",
        "    model.eval()\n",
        "    val_loss = 0.0\n",
        "    correct = 0\n",
        "    total = 0\n",
        "\n",
        "    with torch.no_grad():\n",
        "        for images, labels in test_loader:\n",
        "            images = images.to(device)\n",
        "            labels = labels.to(device)\n",
        "\n",
        "            outputs = model(images)\n",
        "            loss = criterion(outputs, labels)\n",
        "            val_loss += loss.item()\n",
        "\n",
        "            _, predicted = torch.max(outputs.data, 1)\n",
        "            total += labels.size(0)\n",
        "            correct += (predicted == labels).sum().item()\n",
        "\n",
        "    val_loss /= len(test_loader)\n",
        "    accuracy = 100 * correct / total\n",
        "    print(f\"Validation Accuracy: {accuracy:.2f}% | Validation Loss: {val_loss:.4f}\")\n",
        "\n",
        "    # Step the scheduler with validation loss\n",
        "    scheduler.step(val_loss)\n",
        "\n",
        "end_time = time.time()\n",
        "print(\"\\nFinished Training.\")\n",
        "print(f\"Total training time: {((end_time - start_time) / 60):.2f} minutes\")\n"
      ],
      "metadata": {
        "colab": {
          "base_uri": "https://localhost:8080/"
        },
        "id": "qRl3ybdOQIko",
        "outputId": "4c7ef1ee-f8c0-4f5a-d41a-8a2a2359f9c7"
      },
      "execution_count": 13,
      "outputs": [
        {
          "output_type": "stream",
          "name": "stdout",
          "text": [
            "\n",
            "Starting Training...\n",
            "Epoch [1/20], Training Loss: 0.1747\n",
            "Validation Accuracy: 79.30% | Validation Loss: 0.7812\n",
            "Epoch [2/20], Training Loss: 0.1449\n",
            "Validation Accuracy: 79.17% | Validation Loss: 0.8012\n",
            "Epoch [3/20], Training Loss: 0.1255\n",
            "Validation Accuracy: 78.90% | Validation Loss: 0.8309\n",
            "Epoch [4/20], Training Loss: 0.1166\n",
            "Validation Accuracy: 79.36% | Validation Loss: 0.8343\n",
            "Epoch [5/20], Training Loss: 0.1023\n",
            "Validation Accuracy: 79.32% | Validation Loss: 0.8380\n",
            "Epoch [6/20], Training Loss: 0.1017\n",
            "Validation Accuracy: 79.28% | Validation Loss: 0.8481\n",
            "Epoch [7/20], Training Loss: 0.0995\n",
            "Validation Accuracy: 79.27% | Validation Loss: 0.8544\n",
            "Epoch [8/20], Training Loss: 0.0977\n",
            "Validation Accuracy: 79.38% | Validation Loss: 0.8477\n",
            "Epoch [9/20], Training Loss: 0.0974\n",
            "Validation Accuracy: 79.28% | Validation Loss: 0.8483\n",
            "Epoch [10/20], Training Loss: 0.0957\n",
            "Validation Accuracy: 79.33% | Validation Loss: 0.8500\n",
            "Epoch [11/20], Training Loss: 0.0989\n",
            "Validation Accuracy: 79.30% | Validation Loss: 0.8461\n",
            "Epoch [12/20], Training Loss: 0.0987\n",
            "Validation Accuracy: 79.22% | Validation Loss: 0.8529\n",
            "Epoch [13/20], Training Loss: 0.0991\n",
            "Validation Accuracy: 79.24% | Validation Loss: 0.8522\n",
            "Epoch [14/20], Training Loss: 0.0962\n",
            "Validation Accuracy: 79.26% | Validation Loss: 0.8490\n",
            "Epoch [15/20], Training Loss: 0.0961\n",
            "Validation Accuracy: 79.24% | Validation Loss: 0.8579\n",
            "Epoch [16/20], Training Loss: 0.0952\n",
            "Validation Accuracy: 79.22% | Validation Loss: 0.8546\n",
            "Epoch [17/20], Training Loss: 0.0969\n",
            "Validation Accuracy: 79.29% | Validation Loss: 0.8492\n",
            "Epoch [18/20], Training Loss: 0.0952\n",
            "Validation Accuracy: 79.24% | Validation Loss: 0.8577\n",
            "Epoch [19/20], Training Loss: 0.0973\n",
            "Validation Accuracy: 79.20% | Validation Loss: 0.8495\n",
            "Epoch [20/20], Training Loss: 0.0965\n",
            "Validation Accuracy: 79.25% | Validation Loss: 0.8507\n",
            "\n",
            "Finished Training.\n",
            "Total training time: 5.98 minutes\n"
          ]
        }
      ]
    },
    {
      "cell_type": "code",
      "source": [
        "# =================================================================================\n",
        "# 7. SAVE THE MODEL (Optional)\n",
        "# =================================================================================\n",
        "# You can save the trained model's state for later use.\n",
        "torch.save(model.state_dict(), 'mini_vgg_cifar10.pth')\n",
        "print(\"Model saved to mini_vgg_cifar10.pth\")"
      ],
      "metadata": {
        "colab": {
          "base_uri": "https://localhost:8080/"
        },
        "id": "AKWS5F3BQNi4",
        "outputId": "d7b38cea-8d5b-497c-cc9f-df74d72255fc"
      },
      "execution_count": null,
      "outputs": [
        {
          "output_type": "stream",
          "name": "stdout",
          "text": [
            "Model saved to mini_vgg_cifar10.pth\n"
          ]
        }
      ]
    }
  ]
}